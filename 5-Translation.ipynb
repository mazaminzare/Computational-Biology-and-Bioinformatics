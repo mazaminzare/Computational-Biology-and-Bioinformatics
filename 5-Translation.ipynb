{
  "nbformat": 4,
  "nbformat_minor": 0,
  "metadata": {
    "colab": {
      "provenance": []
    },
    "kernelspec": {
      "name": "python3",
      "display_name": "Python 3"
    },
    "language_info": {
      "name": "python"
    }
  },
  "cells": [
    {
      "cell_type": "markdown",
      "source": [
        "# An In-Depth Tutorial on Translation\n",
        "\n",
        "Translation is the process by which the genetic code carried by mRNA is decoded to produce a specific sequence of amino acids in a polypeptide chain. This process occurs in the ribosome and involves several key components and stages.\n",
        "\n",
        "## 1. Basics of Translation\n",
        "\n",
        "### Definition\n",
        "- **Translation**: The process of synthesizing a protein from an mRNA template.\n",
        "\n",
        "### Key Components\n",
        "- **mRNA (messenger RNA)**: Carries the genetic information from DNA to the ribosome.\n",
        "- **Ribosome**: The molecular machine that facilitates the translation process.\n",
        "- **tRNA (transfer RNA)**: Delivers amino acids to the ribosome.\n",
        "- **Amino Acids**: The building blocks of proteins.\n",
        "- **Codons**: Triplets of nucleotides in mRNA that specify amino acids.\n",
        "\n",
        "## 2. Stages of Translation\n",
        "\n",
        "### Initiation\n",
        "1. **mRNA Binding**: The small ribosomal subunit binds to the mRNA near the start codon (AUG).\n",
        "2. **Initiator tRNA**: tRNA carrying methionine (Met) binds to the start codon.\n",
        "3. **Ribosome Assembly**: The large ribosomal subunit binds, forming the complete ribosome.\n",
        "\n",
        "### Elongation\n",
        "1. **Codon Recognition**: tRNA with the complementary anticodon binds to the mRNA codon in the A site of the ribosome.\n",
        "2. **Peptide Bond Formation**: A peptide bond forms between the amino acid on the tRNA in the P site and the new amino acid in the A site.\n",
        "3. **Translocation**: The ribosome moves one codon down the mRNA, shifting the tRNAs from the A site to the P site and from the P site to the E site.\n",
        "\n",
        "### Termination\n",
        "1. **Stop Codon**: The ribosome reaches a stop codon (UAA, UAG, or UGA).\n",
        "2. **Release Factor**: A release factor binds to the stop codon, prompting the release of the polypeptide chain.\n",
        "3. **Ribosome Disassembly**: The ribosomal subunits dissociate, releasing the mRNA and tRNA.\n",
        "\n",
        "## 3. Post-Translational Modifications\n",
        "- **Folding**: The polypeptide chain folds into its three-dimensional structure.\n",
        "- **Cleavage**: Some proteins are cleaved to activate or inactivate certain regions.\n",
        "- **Chemical Modifications**: Addition of phosphate, methyl, or acetyl groups to regulate activity or stability.\n",
        "\n",
        "## 4. Example: Translation of Human Hemoglobin mRNA\n",
        "\n",
        "### mRNA Sequence\n",
        "```text\n",
        "5'-AUG GUG CAC CUG ACU CCU GAG GAG AAG UCU GCC GUG UAC CUG CCA ACC UGG GCA-3'\n"
      ],
      "metadata": {
        "id": "Y0stSFBEAQKT"
      }
    },
    {
      "cell_type": "markdown",
      "source": [
        "AUG - Methionine (Met)\n",
        "GUG - Valine (Val)\n",
        "CAC - Histidine (His)\n",
        "CUG - Leucine (Leu)\n",
        "ACU - Threonine (Thr)\n",
        "CCU - Proline (Pro)\n",
        "GAG - Glutamate (Glu)\n",
        "AAG - Lysine (Lys)\n",
        "UCU - Serine (Ser)\n",
        "GCC - Alanine (Ala)\n",
        "GUG - Valine (Val)\n",
        "UAC - Tyrosine (Tyr)\n",
        "CUG - Leucine (Leu)\n",
        "CCA - Proline (Pro)\n",
        "ACC - Threonine (Thr)\n",
        "UGG - Tryptophan (Trp)\n",
        "GCA - Alanine (Ala)\n"
      ],
      "metadata": {
        "id": "rlCCUVgtAnz6"
      }
    },
    {
      "cell_type": "code",
      "source": [
        "### Python Implementation Example\n",
        "\n",
        "# Define the mRNA sequence of the HBB gene (simplified for illustration)\n",
        "mRNA_sequence = \"AUGGUGCACCUGACUCCUGAGGAGAAGUCUCCGUGUACCUCCCUAACCUGGCCA\"\n",
        "\n",
        "# Define the codon table (only a subset for illustration)\n",
        "codon_table = {\n",
        "    'AUG': 'Methionine (Met)',\n",
        "    'GUG': 'Valine (Val)',\n",
        "    'CAC': 'Histidine (His)',\n",
        "    'CUG': 'Leucine (Leu)',\n",
        "    'ACU': 'Threonine (Thr)',\n",
        "    'CCU': 'Proline (Pro)',\n",
        "    'GAG': 'Glutamate (Glu)',\n",
        "    'AAG': 'Lysine (Lys)',\n",
        "    'UCU': 'Serine (Ser)',\n",
        "    'GCC': 'Alanine (Ala)',\n",
        "    'UAC': 'Tyrosine (Tyr)',\n",
        "    'UGG': 'Tryptophan (Trp)'\n",
        "}\n",
        "\n",
        "# Function to translate mRNA into a protein sequence\n",
        "def translate(mRNA, codon_table):\n",
        "    protein_sequence = []\n",
        "    # Loop through the mRNA sequence in steps of 3 nucleotides (codon)\n",
        "    for i in range(0, len(mRNA), 3):\n",
        "        codon = mRNA[i:i+3]\n",
        "        if codon in codon_table:\n",
        "            protein_sequence.append(codon_table[codon])\n",
        "        else:\n",
        "            protein_sequence.append('Unknown')\n",
        "    return protein_sequence\n",
        "\n",
        "# Translate the mRNA sequence\n",
        "protein_sequence = translate(mRNA_sequence, codon_table)\n",
        "\n",
        "# Print the resulting protein sequence\n",
        "print(\"Protein sequence:\", protein_sequence)\n",
        "\n"
      ],
      "metadata": {
        "colab": {
          "base_uri": "https://localhost:8080/"
        },
        "id": "Ej6oylYaAQCD",
        "outputId": "752cafde-1318-488a-ac01-1072db0ecfa2"
      },
      "execution_count": 3,
      "outputs": [
        {
          "output_type": "stream",
          "name": "stdout",
          "text": [
            "Protein sequence: ['Methionine (Met)', 'Valine (Val)', 'Histidine (His)', 'Leucine (Leu)', 'Threonine (Thr)', 'Proline (Pro)', 'Glutamate (Glu)', 'Glutamate (Glu)', 'Lysine (Lys)', 'Serine (Ser)', 'Unknown', 'Unknown', 'Unknown', 'Unknown', 'Unknown', 'Unknown', 'Tryptophan (Trp)', 'Unknown']\n"
          ]
        }
      ]
    },
    {
      "cell_type": "code",
      "execution_count": null,
      "metadata": {
        "id": "xm3CIPP_APVD"
      },
      "outputs": [],
      "source": []
    }
  ]
}