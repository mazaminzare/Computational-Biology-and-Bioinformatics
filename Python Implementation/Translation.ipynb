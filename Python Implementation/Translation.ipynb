{
  "nbformat": 4,
  "nbformat_minor": 0,
  "metadata": {
    "colab": {
      "provenance": []
    },
    "kernelspec": {
      "name": "python3",
      "display_name": "Python 3"
    },
    "language_info": {
      "name": "python"
    }
  },
  "cells": [
    {
      "cell_type": "code",
      "execution_count": 2,
      "metadata": {
        "id": "nXLKCMqzKrMx",
        "outputId": "2d9593a1-28f8-45b5-d2f5-643f0e9df781",
        "colab": {
          "base_uri": "https://localhost:8080/"
        }
      },
      "outputs": [
        {
          "output_type": "stream",
          "name": "stdout",
          "text": [
            "mRNA Sequence: AUGGCCAUGGCGCCCAGAACUGAGAUCAAUAGAUGCCGUU\n",
            "Protein Sequence: MAMAPRTEINRCR\n"
          ]
        }
      ],
      "source": [
        "class Translation:\n",
        "    def __init__(self, mrna_sequence):\n",
        "        self.mrna_sequence = mrna_sequence\n",
        "        self.protein_sequence = ''\n",
        "        self.codon_table = {\n",
        "            'AUG': 'M', 'UUU': 'F', 'UUC': 'F', 'UUA': 'L', 'UUG': 'L',\n",
        "            'UCU': 'S', 'UCC': 'S', 'UCA': 'S', 'UCG': 'S',\n",
        "            'UAU': 'Y', 'UAC': 'Y', 'UAA': '*', 'UAG': '*', 'UGU': 'C', 'UGC': 'C', 'UGA': '*', 'UGG': 'W',\n",
        "            'CUU': 'L', 'CUC': 'L', 'CUA': 'L', 'CUG': 'L',\n",
        "            'CCU': 'P', 'CCC': 'P', 'CCA': 'P', 'CCG': 'P',\n",
        "            'CAU': 'H', 'CAC': 'H', 'CAA': 'Q', 'CAG': 'Q',\n",
        "            'CGU': 'R', 'CGC': 'R', 'CGA': 'R', 'CGG': 'R',\n",
        "            'AUU': 'I', 'AUC': 'I', 'AUA': 'I', 'AUG': 'M',\n",
        "            'ACU': 'T', 'ACC': 'T', 'ACA': 'T', 'ACG': 'T',\n",
        "            'AAU': 'N', 'AAC': 'N', 'AAA': 'K', 'AAG': 'K',\n",
        "            'AGU': 'S', 'AGC': 'S', 'AGA': 'R', 'AGG': 'R',\n",
        "            'GUU': 'V', 'GUC': 'V', 'GUA': 'V', 'GUG': 'V',\n",
        "            'GCU': 'A', 'GCC': 'A', 'GCA': 'A', 'GCG': 'A',\n",
        "            'GAU': 'D', 'GAC': 'D', 'GAA': 'E', 'GAG': 'E',\n",
        "            'GGU': 'G', 'GGC': 'G', 'GGA': 'G', 'GGG': 'G'\n",
        "        }\n",
        "\n",
        "    def translate(self):\n",
        "        # Find the start codon (AUG)\n",
        "        start_index = self.mrna_sequence.find('AUG')\n",
        "        if start_index == -1:\n",
        "            raise ValueError(\"Start codon (AUG) not found in the mRNA sequence.\")\n",
        "\n",
        "        # Start translation from the start codon\n",
        "        for i in range(start_index, len(self.mrna_sequence), 3):\n",
        "            codon = self.mrna_sequence[i:i+3]\n",
        "            if len(codon) < 3:\n",
        "                break\n",
        "            amino_acid = self.codon_table.get(codon, '')\n",
        "            if amino_acid == '*':  # Stop codon\n",
        "                break\n",
        "            self.protein_sequence += amino_acid\n",
        "\n",
        "    def display_results(self):\n",
        "        print(f\"mRNA Sequence: {self.mrna_sequence}\")\n",
        "        print(f\"Protein Sequence: {self.protein_sequence}\")\n",
        "\n",
        "# Example usage\n",
        "mrna_sequence = \"AUGGCCAUGGCGCCCAGAACUGAGAUCAAUAGAUGCCGUU\"\n",
        "translation = Translation(mrna_sequence)\n",
        "\n",
        "translation.translate()\n",
        "translation.display_results()\n"
      ]
    }
  ]
}