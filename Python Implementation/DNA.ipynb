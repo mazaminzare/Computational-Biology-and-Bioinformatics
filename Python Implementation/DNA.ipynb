{
  "nbformat": 4,
  "nbformat_minor": 0,
  "metadata": {
    "colab": {
      "provenance": []
    },
    "kernelspec": {
      "name": "python3",
      "display_name": "Python 3"
    },
    "language_info": {
      "name": "python"
    }
  },
  "cells": [
    {
      "cell_type": "code",
      "execution_count": 1,
      "metadata": {
        "colab": {
          "base_uri": "https://localhost:8080/"
        },
        "id": "xnPQMKRsJo3X",
        "outputId": "5dff5e3a-f75f-4359-d7d4-08df1918bd12"
      },
      "outputs": [
        {
          "output_type": "stream",
          "name": "stdout",
          "text": [
            "DNA Sequence: ATGCGTACGTTAGC\n",
            "Transcribed RNA Sequence: AUGCGUACGUUAGC\n",
            "Complementary DNA Sequence: TACGCATGCAATCG\n"
          ]
        }
      ],
      "source": [
        "class DNA:\n",
        "    def __init__(self, sequence):\n",
        "        self.sequence = sequence\n",
        "\n",
        "    def transcribe(self):\n",
        "        # Transcribe DNA to RNA by replacing 'T' with 'U'\n",
        "        return self.sequence.replace('T', 'U')\n",
        "\n",
        "    def complement(self):\n",
        "        # Get the complementary DNA strand\n",
        "        complement_map = str.maketrans('ATCG', 'TAGC')\n",
        "        return self.sequence.translate(complement_map)\n",
        "\n",
        "    def display_sequence(self):\n",
        "        print(f\"DNA Sequence: {self.sequence}\")\n",
        "\n",
        "# Example usage\n",
        "dna = DNA(sequence=\"ATGCGTACGTTAGC\")\n",
        "dna.display_sequence()\n",
        "\n",
        "rna_sequence = dna.transcribe()\n",
        "print(f\"Transcribed RNA Sequence: {rna_sequence}\")\n",
        "\n",
        "complement_sequence = dna.complement()\n",
        "print(f\"Complementary DNA Sequence: {complement_sequence}\")"
      ]
    }
  ]
}