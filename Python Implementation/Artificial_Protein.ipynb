{
  "nbformat": 4,
  "nbformat_minor": 0,
  "metadata": {
    "colab": {
      "provenance": []
    },
    "kernelspec": {
      "name": "python3",
      "display_name": "Python 3"
    },
    "language_info": {
      "name": "python"
    }
  },
  "cells": [
    {
      "cell_type": "code",
      "execution_count": 1,
      "metadata": {
        "colab": {
          "base_uri": "https://localhost:8080/"
        },
        "id": "WehTaGfkJi4r",
        "outputId": "914b65cb-9a00-40fd-e804-767c400df353"
      },
      "outputs": [
        {
          "output_type": "stream",
          "name": "stdout",
          "text": [
            "Protein Sequence: MVLSPADKTNVKAAW\n",
            "Length of protein: 15\n",
            "Protein Sequence: MVLGPADKTNVKAAW\n"
          ]
        }
      ],
      "source": [
        "class Protein:\n",
        "    def __init__(self, sequence):\n",
        "        self.sequence = sequence\n",
        "\n",
        "    def get_length(self):\n",
        "        return len(self.sequence)\n",
        "\n",
        "    def mutate(self, position, new_amino_acid):\n",
        "        if position < 0 or position >= len(self.sequence):\n",
        "            raise ValueError(\"Position out of range\")\n",
        "        self.sequence = self.sequence[:position] + new_amino_acid + self.sequence[position+1:]\n",
        "\n",
        "    def display_sequence(self):\n",
        "        print(f\"Protein Sequence: {self.sequence}\")\n",
        "\n",
        "# Example usage\n",
        "protein = Protein(sequence=\"MVLSPADKTNVKAAW\")\n",
        "protein.display_sequence()\n",
        "\n",
        "print(f\"Length of protein: {protein.get_length()}\")\n",
        "\n",
        "protein.mutate(3, 'G')\n",
        "protein.display_sequence()"
      ]
    }
  ]
}