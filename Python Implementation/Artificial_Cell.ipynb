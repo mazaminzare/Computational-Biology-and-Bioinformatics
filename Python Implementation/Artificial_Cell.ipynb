{
  "nbformat": 4,
  "nbformat_minor": 0,
  "metadata": {
    "colab": {
      "provenance": []
    },
    "kernelspec": {
      "name": "python3",
      "display_name": "Python 3"
    },
    "language_info": {
      "name": "python"
    }
  },
  "cells": [
    {
      "cell_type": "code",
      "execution_count": 1,
      "metadata": {
        "colab": {
          "base_uri": "https://localhost:8080/"
        },
        "id": "DuvhblMWJaAW",
        "outputId": "c07b1c53-10a3-4402-b095-4b1e71a5dcd3"
      },
      "outputs": [
        {
          "output_type": "stream",
          "name": "stdout",
          "text": [
            "Cell Name: Eukaryotic Cell\n",
            "Cell Type: Animal\n",
            "Organelles: Nucleus, Mitochondria, Ribosome\n",
            "Cell Name: Eukaryotic Cell\n",
            "Cell Type: Animal\n",
            "Organelles: Nucleus, Mitochondria, Ribosome, Lysosome\n"
          ]
        }
      ],
      "source": [
        "class Cell:\n",
        "    def __init__(self, name, cell_type, organelles):\n",
        "        self.name = name\n",
        "        self.cell_type = cell_type\n",
        "        self.organelles = organelles\n",
        "\n",
        "    def add_organelle(self, organelle):\n",
        "        self.organelles.append(organelle)\n",
        "\n",
        "    def remove_organelle(self, organelle):\n",
        "        self.organelles.remove(organelle)\n",
        "\n",
        "    def display_info(self):\n",
        "        print(f\"Cell Name: {self.name}\")\n",
        "        print(f\"Cell Type: {self.cell_type}\")\n",
        "        print(\"Organelles: \" + \", \".join(self.organelles))\n",
        "\n",
        "# Example usage\n",
        "cell = Cell(name=\"Eukaryotic Cell\", cell_type=\"Animal\", organelles=[\"Nucleus\", \"Mitochondria\", \"Ribosome\"])\n",
        "cell.display_info()\n",
        "\n",
        "cell.add_organelle(\"Lysosome\")\n",
        "cell.display_info()"
      ]
    }
  ]
}