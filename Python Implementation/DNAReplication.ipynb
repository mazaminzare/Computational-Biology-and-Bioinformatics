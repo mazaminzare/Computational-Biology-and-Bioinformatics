{
  "nbformat": 4,
  "nbformat_minor": 0,
  "metadata": {
    "colab": {
      "provenance": []
    },
    "kernelspec": {
      "name": "python3",
      "display_name": "Python 3"
    },
    "language_info": {
      "name": "python"
    }
  },
  "cells": [
    {
      "cell_type": "code",
      "execution_count": 1,
      "metadata": {
        "colab": {
          "base_uri": "https://localhost:8080/"
        },
        "id": "nHfQLkoqJ0Og",
        "outputId": "fb2b6ae3-3390-4bbb-906f-f5b7584796e2"
      },
      "outputs": [
        {
          "output_type": "stream",
          "name": "stdout",
          "text": [
            "Origin of replication found at index 7\n",
            "Elongation completed.\n",
            "Replication terminated.\n",
            "Original DNA Sequence: ATGCGTACGTTAGC\n",
            "Leading Strand: CGTTAGCATGCGTA\n",
            "Lagging Strand: GCAATCGTACGCAT\n"
          ]
        }
      ],
      "source": [
        "class DNAReplication:\n",
        "    def __init__(self, dna_sequence):\n",
        "        self.dna_sequence = dna_sequence\n",
        "        self.origin = None\n",
        "        self.leading_strand = ''\n",
        "        self.lagging_strand = ''\n",
        "\n",
        "    def find_origin_of_replication(self):\n",
        "        # For simplicity, we assume the origin is at the midpoint of the sequence\n",
        "        self.origin = len(self.dna_sequence) // 2\n",
        "        print(f\"Origin of replication found at index {self.origin}\")\n",
        "\n",
        "    def elongate_strands(self):\n",
        "        if self.origin is None:\n",
        "            raise ValueError(\"Origin of replication not found. Please run find_origin_of_replication() first.\")\n",
        "\n",
        "        # Simulating elongation by copying the sequence\n",
        "        self.leading_strand = self.dna_sequence[self.origin:] + self.dna_sequence[:self.origin]\n",
        "        self.lagging_strand = self.complement(self.dna_sequence[self.origin:]) + self.complement(self.dna_sequence[:self.origin])\n",
        "        print(\"Elongation completed.\")\n",
        "\n",
        "    def complement(self, sequence):\n",
        "        complement_map = str.maketrans('ATCG', 'TAGC')\n",
        "        return sequence.translate(complement_map)\n",
        "\n",
        "    def terminate(self):\n",
        "        print(\"Replication terminated.\")\n",
        "        return self.leading_strand, self.lagging_strand\n",
        "\n",
        "    def display_results(self):\n",
        "        print(f\"Original DNA Sequence: {self.dna_sequence}\")\n",
        "        print(f\"Leading Strand: {self.leading_strand}\")\n",
        "        print(f\"Lagging Strand: {self.lagging_strand}\")\n",
        "\n",
        "# Example usage\n",
        "dna_sequence = \"ATGCGTACGTTAGC\"\n",
        "replication = DNAReplication(dna_sequence)\n",
        "\n",
        "replication.find_origin_of_replication()\n",
        "replication.elongate_strands()\n",
        "leading_strand, lagging_strand = replication.terminate()\n",
        "replication.display_results()"
      ]
    }
  ]
}