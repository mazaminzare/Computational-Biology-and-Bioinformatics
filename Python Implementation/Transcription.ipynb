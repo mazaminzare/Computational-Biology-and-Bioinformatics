{
  "nbformat": 4,
  "nbformat_minor": 0,
  "metadata": {
    "colab": {
      "provenance": []
    },
    "kernelspec": {
      "name": "python3",
      "display_name": "Python 3"
    },
    "language_info": {
      "name": "python"
    }
  },
  "cells": [
    {
      "cell_type": "code",
      "execution_count": 1,
      "metadata": {
        "colab": {
          "base_uri": "https://localhost:8080/"
        },
        "id": "gG5mg_ahJ8kW",
        "outputId": "840c50fa-c0c1-4913-8b44-59b285b2fcde"
      },
      "outputs": [
        {
          "output_type": "stream",
          "name": "stdout",
          "text": [
            "Promoter region found at index 9\n",
            "Terminator region found at index 15\n",
            "Transcription completed.\n",
            "DNA Sequence: ATGCGTACGTATAGCTTATTTAGCGT\n",
            "RNA Sequence: UAUAGC\n"
          ]
        }
      ],
      "source": [
        "class Transcription:\n",
        "    def __init__(self, dna_sequence):\n",
        "        self.dna_sequence = dna_sequence\n",
        "        self.rna_sequence = ''\n",
        "        self.promoter_region = None\n",
        "        self.terminator_region = None\n",
        "\n",
        "    def find_promoter(self, promoter_sequence=\"TATA\"):\n",
        "        # Find the promoter sequence in the DNA\n",
        "        self.promoter_region = self.dna_sequence.find(promoter_sequence)\n",
        "        if self.promoter_region == -1:\n",
        "            raise ValueError(\"Promoter sequence not found.\")\n",
        "        print(f\"Promoter region found at index {self.promoter_region}\")\n",
        "\n",
        "    def find_terminator(self, terminator_sequence=\"TTATTT\"):\n",
        "        # Find the terminator sequence in the DNA\n",
        "        self.terminator_region = self.dna_sequence.find(terminator_sequence, self.promoter_region)\n",
        "        if self.terminator_region == -1:\n",
        "            raise ValueError(\"Terminator sequence not found.\")\n",
        "        print(f\"Terminator region found at index {self.terminator_region}\")\n",
        "\n",
        "    def transcribe(self):\n",
        "        if self.promoter_region is None:\n",
        "            raise ValueError(\"Promoter region not found. Please run find_promoter() first.\")\n",
        "        if self.terminator_region is None:\n",
        "            raise ValueError(\"Terminator region not found. Please run find_terminator() first.\")\n",
        "\n",
        "        # Extract the template strand (between promoter and terminator)\n",
        "        template_strand = self.dna_sequence[self.promoter_region:self.terminator_region]\n",
        "        # Simulate RNA synthesis (replacing T with U in RNA)\n",
        "        self.rna_sequence = template_strand.replace('T', 'U')\n",
        "        print(\"Transcription completed.\")\n",
        "\n",
        "    def display_results(self):\n",
        "        print(f\"DNA Sequence: {self.dna_sequence}\")\n",
        "        print(f\"RNA Sequence: {self.rna_sequence}\")\n",
        "\n",
        "# Example usage\n",
        "dna_sequence = \"ATGCGTACGTATAGCTTATTTAGCGT\"\n",
        "transcription = Transcription(dna_sequence)\n",
        "\n",
        "transcription.find_promoter()\n",
        "transcription.find_terminator()\n",
        "transcription.transcribe()\n",
        "transcription.display_results()"
      ]
    }
  ]
}