{
  "nbformat": 4,
  "nbformat_minor": 0,
  "metadata": {
    "colab": {
      "provenance": []
    },
    "kernelspec": {
      "name": "python3",
      "display_name": "Python 3"
    },
    "language_info": {
      "name": "python"
    }
  },
  "cells": [
    {
      "cell_type": "markdown",
      "source": [
        "## Gene Expression: From DNA to Protein\n",
        "\n",
        "### Transcription\n",
        "- This process occurs in the **nucleus** of eukaryotic cells.\n",
        "- **DNA** is transcribed into **mRNA** (messenger RNA) by the enzyme **RNA polymerase**.\n",
        "- The DNA strand used as a template is called the **template strand**.\n",
        "\n",
        "### Translation\n",
        "- This process occurs in the **cytoplasm**, specifically at the **ribosomes**.\n",
        "- mRNA is translated into a **protein** by the ribosome, which reads the mRNA sequence and assembles the corresponding amino acids into a polypeptide chain.\n",
        "\n",
        "## Components of a Gene and mRNA Processing\n",
        "\n",
        "### Exons\n",
        "- **Exons** are sequences within a gene that are **expressed** and **translated** into protein.\n",
        "- During mRNA processing, exons are spliced together to form the final mRNA.\n",
        "\n",
        "### Introns\n",
        "- **Introns** are non-coding sequences within a gene that are **not translated** into protein.\n",
        "- These sequences are transcribed into the initial mRNA but are **removed** during mRNA processing.\n",
        "\n",
        "### 5' Cap\n",
        "- The **5' cap** is a modified guanine nucleotide added to the **5' end** of the pre-mRNA shortly after the start of transcription.\n",
        "- It protects the mRNA from degradation and assists in **ribosome binding** during translation.\n",
        "\n",
        "### Poly-A Tail\n",
        "- The **poly-A tail** is a string of adenine nucleotides added to the **3' end** of the pre-mRNA.\n",
        "- It protects the mRNA from degradation and helps in the export of the mRNA from the nucleus to the cytoplasm.\n",
        "\n",
        "## mRNA Processing\n",
        "\n",
        "### Capping\n",
        "- Shortly after transcription begins, a **5' cap** is added to the nascent mRNA.\n",
        "\n",
        "### Splicing\n",
        "- **Introns** are removed, and **exons** are joined together.\n",
        "- This is done by a complex called the **spliceosome**.\n",
        "\n",
        "### Polyadenylation\n",
        "- After the transcription of the gene, a **poly-A tail** is added to the 3' end of the mRNA.\n",
        "- This process involves a cleavage step followed by the addition of adenine nucleotides.\n",
        "\n",
        "## Summary of the Flow of Genetic Information\n",
        "1. **DNA** (in the nucleus) → **pre-mRNA** (transcription)\n",
        "2. **pre-mRNA** (capping, splicing, polyadenylation) → **mature mRNA**\n",
        "3. **mature mRNA** (exported to cytoplasm) → **protein** (translation at ribosome)\n",
        "\n",
        "## Key Points to Remember\n",
        "- **Exons** are coding regions that remain in mRNA after splicing.\n",
        "- **Introns** are non-coding regions removed during splicing.\n",
        "- The **5' cap** and **poly-A tail** protect the mRNA and assist in translation.\n",
        "\n",
        "This process ensures that genetic information is accurately and efficiently transferred from DNA to RNA to protein, enabling cells to produce the necessary proteins for various functions.\n"
      ],
      "metadata": {
        "id": "R1Fv2HUApw0n"
      }
    },
    {
      "cell_type": "code",
      "execution_count": null,
      "metadata": {
        "id": "X7E4nVYFpwSP"
      },
      "outputs": [],
      "source": []
    }
  ]
}